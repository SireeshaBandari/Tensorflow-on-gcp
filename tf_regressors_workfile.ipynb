{
  "nbformat": 4,
  "nbformat_minor": 0,
  "metadata": {
    "environment": {
      "name": "tf-gpu.1-15.m47",
      "type": "gcloud",
      "uri": "gcr.io/deeplearning-platform-release/tf-gpu.1-15:m47"
    },
    "kernelspec": {
      "display_name": "Python 3",
      "language": "python",
      "name": "python3"
    },
    "language_info": {
      "codemirror_mode": {
        "name": "ipython",
        "version": 3
      },
      "file_extension": ".py",
      "mimetype": "text/x-python",
      "name": "python",
      "nbconvert_exporter": "python",
      "pygments_lexer": "ipython3",
      "version": "3.7.6"
    },
    "colab": {
      "name": "Untitled (1).ipynb",
      "provenance": []
    }
  },
  "cells": [
    {
      "cell_type": "code",
      "metadata": {
        "id": "i_h-OAmKsYLl",
        "colab_type": "code",
        "colab": {}
      },
      "source": [
        "import tensorflow as tf"
      ],
      "execution_count": 0,
      "outputs": []
    },
    {
      "cell_type": "code",
      "metadata": {
        "id": "xveI_rZfsYL5",
        "colab_type": "code",
        "colab": {}
      },
      "source": [
        "import numpy as np\n",
        "import pandas as pd\n",
        "import shutil\n",
        "print(tf.__version__)"
      ],
      "execution_count": 0,
      "outputs": []
    },
    {
      "cell_type": "code",
      "metadata": {
        "id": "XusxvaaEsYML",
        "colab_type": "code",
        "colab": {}
      },
      "source": [
        "CSV_COLUMNS = ['fare_amount', 'pickuplon','pickuplat','dropofflon','dropofflat','passengers', 'key']\n",
        "features=CSV_COLUMNS[1:len(CSV_COLUMNS)-1]\n",
        "labels=CSV_COLUMNS[0]"
      ],
      "execution_count": 0,
      "outputs": []
    },
    {
      "cell_type": "code",
      "metadata": {
        "id": "fRzgw55psYMX",
        "colab_type": "code",
        "colab": {}
      },
      "source": [
        "df_train=pd.read_csv('./taxi-train.csv' ,header=None,names=CSV_COLUMNS)\n",
        "df_valid=pd.read_csv('./taxi-valid.csv',header=None,names=CSV_COLUMNS)\n",
        "df_test=pd.read_csv('./taxi-valid.csv',header=None,names=CSV_COLUMNS)"
      ],
      "execution_count": 0,
      "outputs": []
    },
    {
      "cell_type": "code",
      "metadata": {
        "id": "MLHOVe69sYMf",
        "colab_type": "code",
        "colab": {}
      },
      "source": [
        "def make_train_input_fn(df,num_epochs):\n",
        "    return tf.estimator.inputs.pandas_input_fn(\n",
        "       x=df,\n",
        "       y=df[labels],\n",
        "       batch_size = 128,\n",
        "       shuffle = True,\n",
        "       queue_capacity = 1000 \n",
        "    )"
      ],
      "execution_count": 0,
      "outputs": []
    },
    {
      "cell_type": "code",
      "metadata": {
        "id": "3Nu6c4IBsYMl",
        "colab_type": "code",
        "colab": {}
      },
      "source": [
        "def make_eval_input(df):\n",
        "    return tf.estimator.input.pandas_input_fn(\n",
        "       x=df,\n",
        "       y=df[labels],\n",
        "       shuffle=False,\n",
        "       queue_capacity=1000,\n",
        "       batch_size = 128 \n",
        "    \n",
        "    \n",
        "    )"
      ],
      "execution_count": 0,
      "outputs": []
    },
    {
      "cell_type": "code",
      "metadata": {
        "id": "cWyqJlkwsYMr",
        "colab_type": "code",
        "colab": {}
      },
      "source": [
        "def make_prediction_input_fn(df):\n",
        "    return tf.estimator.inputs.pandas_input_fn(\n",
        "        x=df,\n",
        "        y=None,\n",
        "        batch_size=128,\n",
        "        shuffle=False,\n",
        "        queue_capacity = 1000\n",
        "    \n",
        "    \n",
        "    )"
      ],
      "execution_count": 0,
      "outputs": []
    },
    {
      "cell_type": "code",
      "metadata": {
        "id": "4aL5G1E4sYMz",
        "colab_type": "code",
        "colab": {}
      },
      "source": [
        "#creating feture columns\n",
        "def make_feature_cols():\n",
        "    input_columns=[tf.feature_column.numeric_column(k) for k in features]\n",
        "    return input_columns"
      ],
      "execution_count": 0,
      "outputs": []
    },
    {
      "cell_type": "code",
      "metadata": {
        "id": "YhL9KMTBsYM5",
        "colab_type": "code",
        "colab": {}
      },
      "source": [
        "tf.logging.set_verbosity(tf.logging.INFO)\n",
        "#shutil.rmtree is used to delete an entire directory\n",
        "OUTDIR = 'taxi_trained'\n",
        "shutil.rmtree(OUTDIR , ignore_errors = True)#start fresh each time\n",
        "\n",
        "model = tf.estimator.LinearRegressor(feature_columns=make_feature_cols , model_dir=OUTDIR)\n",
        "\n",
        "model.train(input_fn = make_train_input_fn(df_train,num_epochs = 10))"
      ],
      "execution_count": 0,
      "outputs": []
    },
    {
      "cell_type": "code",
      "metadata": {
        "id": "7ffc_6B2sYM_",
        "colab_type": "code",
        "colab": {}
      },
      "source": [
        "def print_rmse( model , df):\n",
        "    metrics = model.evaluate(input_fn = make_eval_input(df))\n",
        "    print('RMSE on the dataset = {}'.format(np.sqrt(metrics['avegare_loss'])))\n",
        "print_rmse(model , df_valid)    \n"
      ],
      "execution_count": 0,
      "outputs": []
    },
    {
      "cell_type": "code",
      "metadata": {
        "id": "KO5TDmWisYNF",
        "colab_type": "code",
        "colab": {}
      },
      "source": [
        "predictions = model.predict(input_fn=make_prediction_input_fn(df_test))\n",
        "for items in predictions:\n",
        "    print(items)"
      ],
      "execution_count": 0,
      "outputs": []
    },
    {
      "cell_type": "code",
      "metadata": {
        "id": "f_mBUvUBsYNK",
        "colab_type": "code",
        "colab": {}
      },
      "source": [
        "#since the model is predicting the same value , we better try a complex model \n",
        "# a complex DNN model"
      ],
      "execution_count": 0,
      "outputs": []
    },
    {
      "cell_type": "code",
      "metadata": {
        "id": "8wuwxGi4sYNS",
        "colab_type": "code",
        "colab": {}
      },
      "source": [
        "tf.logging.set_verbosity(tf.logging.INFO)\n",
        "shutil.rmtree(OUTDIR , ignore_errors = True )\n",
        "model = tf.estimator.DNNRegressor(hidden_units=[32 , 8 , 2],feature_columns = make_feature_cols() , model_dir = OUTDIR)\n",
        "model.train(input_fn = make_train_input_fn(df_train , num_epochs = 100))\n",
        "print_rmse(model,df_valid)"
      ],
      "execution_count": 0,
      "outputs": []
    }
  ]
}