{
  "nbformat": 4,
  "nbformat_minor": 0,
  "metadata": {
    "environment": {
      "name": "tf-gpu.1-15.m47",
      "type": "gcloud",
      "uri": "gcr.io/deeplearning-platform-release/tf-gpu.1-15:m47"
    },
    "kernelspec": {
      "display_name": "Python 3",
      "language": "python",
      "name": "python3"
    },
    "language_info": {
      "codemirror_mode": {
        "name": "ipython",
        "version": 3
      },
      "file_extension": ".py",
      "mimetype": "text/x-python",
      "name": "python",
      "nbconvert_exporter": "python",
      "pygments_lexer": "ipython3",
      "version": "3.7.6"
    },
    "colab": {
      "name": "c_dataset.ipynb",
      "provenance": [],
      "toc_visible": true
    }
  },
  "cells": [
    {
      "cell_type": "code",
      "metadata": {
        "deletable": true,
        "editable": true,
        "jupyter": {
          "outputs_hidden": false
        },
        "id": "30-Mbsc3ppGS",
        "colab_type": "code",
        "colab": {}
      },
      "source": [
        "from google.cloud import bigquery\n",
        "import tensorflow as tf\n",
        "import numpy as np\n",
        "import shutil\n",
        "print(tf.__version__)"
      ],
      "execution_count": 0,
      "outputs": []
    },
    {
      "cell_type": "code",
      "metadata": {
        "deletable": true,
        "editable": true,
        "id": "NJREI6cqppGs",
        "colab_type": "code",
        "colab": {}
      },
      "source": [
        "CSV_COLUMNS = ['fare_amount', 'pickuplon','pickuplat','dropofflon','dropofflat','passengers', 'key']\n",
        "DEFAULTS = [[0.0], [-74.0], [40.0], [-74.0], [40.7], [1.0], ['nokey']]\n",
        "\n",
        "def read_dataset(filename, mode, batch_size = 512):\n",
        "  def decode_csv(row):\n",
        "    columns = tf.decode_csv(row, record_defaults = DEFAULTS)\n",
        "    features = dict(zip(CSV_COLUMNS, columns))\n",
        "    features.pop('key') # discard, not a real feature\n",
        "    label = features.pop('fare_amount') # remove label from features and store\n",
        "    return features, label\n",
        "\n",
        "  filenames_dataset = tf.data.Dataset.list_files(filename, shuffle=False)\n",
        "  textlines_dataset = filenames_dataset.flat_map(tf.data.TextLineDataset)\n",
        "  dataset = textlines_dataset.map(decode_csv)\n",
        "\n",
        "  \n",
        "  if mode == tf.estimator.ModeKeys.TRAIN:\n",
        "      num_epochs = None # loop indefinitely\n",
        "      dataset = dataset.shuffle(buffer_size = 10 * batch_size, seed=2)\n",
        "  else:\n",
        "      num_epochs = 1 # end-of-input after this\n",
        "\n",
        "  dataset = dataset.repeat(num_epochs).batch(batch_size)\n",
        "\n",
        "  return dataset\n",
        "\n",
        "def get_train_input_fn():\n",
        "  return read_dataset('./taxi-train.csv', mode = tf.estimator.ModeKeys.TRAIN)\n",
        "\n",
        "def get_valid_input_fn():\n",
        "  return read_dataset('./taxi-valid.csv', mode = tf.estimator.ModeKeys.EVAL)"
      ],
      "execution_count": 0,
      "outputs": []
    },
    {
      "cell_type": "code",
      "metadata": {
        "deletable": true,
        "editable": true,
        "id": "jwYnMP4TppG7",
        "colab_type": "code",
        "colab": {}
      },
      "source": [
        "INPUT_COLUMNS = [\n",
        "    tf.feature_column.numeric_column('pickuplon'),\n",
        "    tf.feature_column.numeric_column('pickuplat'),\n",
        "    tf.feature_column.numeric_column('dropofflat'),\n",
        "    tf.feature_column.numeric_column('dropofflon'),\n",
        "    tf.feature_column.numeric_column('passengers'),\n",
        "]\n",
        "\n",
        "def add_more_features(feats):\n",
        "  return feats\n",
        "\n",
        "feature_cols = add_more_features(INPUT_COLUMNS)"
      ],
      "execution_count": 0,
      "outputs": []
    },
    {
      "cell_type": "code",
      "metadata": {
        "deletable": true,
        "editable": true,
        "jupyter": {
          "outputs_hidden": false
        },
        "id": "T8Qju_vmppHG",
        "colab_type": "code",
        "colab": {}
      },
      "source": [
        "tf.logging.set_verbosity(tf.logging.INFO)\n",
        "OUTDIR = 'taxi_trained'\n",
        "shutil.rmtree(OUTDIR, ignore_errors = True) # start fresh each time\n",
        "model = tf.estimator.LinearRegressor(\n",
        "      feature_columns = feature_cols, model_dir = OUTDIR)\n",
        "model.train(input_fn = get_train_input_fn, steps = 200)"
      ],
      "execution_count": 0,
      "outputs": []
    },
    {
      "cell_type": "code",
      "metadata": {
        "deletable": true,
        "editable": true,
        "jupyter": {
          "outputs_hidden": false
        },
        "id": "wXRuFAYfppHN",
        "colab_type": "code",
        "colab": {}
      },
      "source": [
        "metrics = model.evaluate(input_fn = get_valid_input_fn, steps = None)\n",
        "print('RMSE on dataset = {}'.format(np.sqrt(metrics['average_loss'])))"
      ],
      "execution_count": 0,
      "outputs": []
    }
  ]
}